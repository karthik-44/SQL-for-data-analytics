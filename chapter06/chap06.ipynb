{
 "cells": [
  {
   "cell_type": "code",
   "execution_count": 1,
   "id": "c56364bb",
   "metadata": {},
   "outputs": [],
   "source": [
    "import psycopg2"
   ]
  },
  {
   "cell_type": "code",
   "execution_count": 2,
   "id": "28231e45",
   "metadata": {},
   "outputs": [],
   "source": [
    "conn = psycopg2.connect(\n",
    "    host = 'localhost',\n",
    "    dbname = 'sqlda',\n",
    "    port = 5432,\n",
    "    user = 'postgres',\n",
    "    password = 'postgres'\n",
    ")"
   ]
  },
  {
   "cell_type": "code",
   "execution_count": 3,
   "id": "66f5f245",
   "metadata": {},
   "outputs": [],
   "source": [
    "cur = conn.cursor()"
   ]
  },
  {
   "cell_type": "code",
   "execution_count": 4,
   "id": "0a418c3c",
   "metadata": {},
   "outputs": [],
   "source": [
    "cur.execute(\"select * from customers limit 10;\")"
   ]
  },
  {
   "cell_type": "code",
   "execution_count": 5,
   "id": "5f126baf",
   "metadata": {},
   "outputs": [],
   "source": [
    "result = cur.fetchall()"
   ]
  },
  {
   "cell_type": "code",
   "execution_count": 6,
   "id": "1519b242",
   "metadata": {
    "collapsed": true
   },
   "outputs": [
    {
     "data": {
      "text/plain": [
       "[(1,\n",
       "  None,\n",
       "  'Arlena',\n",
       "  'Riveles',\n",
       "  None,\n",
       "  'ariveles0@stumbleupon.com',\n",
       "  'F',\n",
       "  '98.36.172.246',\n",
       "  None,\n",
       "  None,\n",
       "  None,\n",
       "  None,\n",
       "  None,\n",
       "  None,\n",
       "  None,\n",
       "  datetime.datetime(2017, 4, 23, 0, 0)),\n",
       " (2,\n",
       "  'Dr',\n",
       "  'Ode',\n",
       "  'Stovin',\n",
       "  None,\n",
       "  'ostovin1@npr.org',\n",
       "  'M',\n",
       "  '16.97.59.186',\n",
       "  '314-534-4361',\n",
       "  '2573 Fordem Parkway',\n",
       "  'Saint Louis',\n",
       "  'MO',\n",
       "  '63116',\n",
       "  38.5814,\n",
       "  -90.2625,\n",
       "  datetime.datetime(2014, 10, 2, 0, 0)),\n",
       " (3,\n",
       "  None,\n",
       "  'Braden',\n",
       "  'Jordan',\n",
       "  None,\n",
       "  'bjordan2@geocities.com',\n",
       "  'M',\n",
       "  '192.86.248.59',\n",
       "  None,\n",
       "  '5651 Kennedy Park',\n",
       "  'Pensacola',\n",
       "  'FL',\n",
       "  '32590',\n",
       "  30.6143,\n",
       "  -87.2758,\n",
       "  datetime.datetime(2018, 10, 27, 0, 0)),\n",
       " (4,\n",
       "  None,\n",
       "  'Jessika',\n",
       "  'Nussen',\n",
       "  None,\n",
       "  'jnussen3@salon.com',\n",
       "  'F',\n",
       "  '159.165.138.166',\n",
       "  '615-824-2506',\n",
       "  '224 Village Circle',\n",
       "  'Nashville',\n",
       "  'TN',\n",
       "  '37215',\n",
       "  36.0986,\n",
       "  -86.8219,\n",
       "  datetime.datetime(2017, 9, 3, 0, 0)),\n",
       " (5,\n",
       "  None,\n",
       "  'Lonnie',\n",
       "  'Rembaud',\n",
       "  None,\n",
       "  'lrembaud4@discovery.com',\n",
       "  'F',\n",
       "  '18.131.58.65',\n",
       "  '786-499-3431',\n",
       "  '38 Lindbergh Way',\n",
       "  'Miami',\n",
       "  'FL',\n",
       "  '33124',\n",
       "  25.5584,\n",
       "  -80.4582,\n",
       "  datetime.datetime(2014, 3, 6, 0, 0)),\n",
       " (6,\n",
       "  None,\n",
       "  'Cortie',\n",
       "  'Locksley',\n",
       "  None,\n",
       "  'clocksley5@weather.com',\n",
       "  'M',\n",
       "  '140.194.59.82',\n",
       "  None,\n",
       "  '6537 Delladonna Drive',\n",
       "  'Miami',\n",
       "  'FL',\n",
       "  '33158',\n",
       "  25.6364,\n",
       "  -80.3187,\n",
       "  datetime.datetime(2013, 3, 31, 0, 0)),\n",
       " (7,\n",
       "  None,\n",
       "  'Wood',\n",
       "  'Kennham',\n",
       "  None,\n",
       "  'wkennham6@sohu.com',\n",
       "  'M',\n",
       "  '191.190.135.172',\n",
       "  '407-552-6486',\n",
       "  '001 Onsgard Park',\n",
       "  'Orlando',\n",
       "  'FL',\n",
       "  '32891',\n",
       "  28.5663,\n",
       "  -81.2608,\n",
       "  datetime.datetime(2011, 8, 25, 0, 0)),\n",
       " (8,\n",
       "  None,\n",
       "  'Rutger',\n",
       "  'Humblestone',\n",
       "  None,\n",
       "  'rhumblestone7@digg.com',\n",
       "  'M',\n",
       "  '77.10.235.191',\n",
       "  '203-551-6530',\n",
       "  '21376 Esker Center',\n",
       "  'New Haven',\n",
       "  'CT',\n",
       "  '06510',\n",
       "  41.3087,\n",
       "  -72.9271,\n",
       "  datetime.datetime(2013, 12, 15, 0, 0)),\n",
       " (9,\n",
       "  None,\n",
       "  'Melantha',\n",
       "  'Tibb',\n",
       "  None,\n",
       "  'mtibb8@bbb.org',\n",
       "  'F',\n",
       "  '155.176.37.197',\n",
       "  '913-590-8429',\n",
       "  '05915 Havey Hill',\n",
       "  'Shawnee Mission',\n",
       "  'KS',\n",
       "  '66225',\n",
       "  38.8999,\n",
       "  -94.83200000000001,\n",
       "  datetime.datetime(2016, 2, 11, 0, 0)),\n",
       " (10,\n",
       "  'Ms',\n",
       "  'Barbara-anne',\n",
       "  'Gowlett',\n",
       "  'Jr',\n",
       "  'bgowlett9@who.int',\n",
       "  'F',\n",
       "  '67.110.62.119',\n",
       "  '915-714-5735',\n",
       "  '9 Kim Point',\n",
       "  'El Paso',\n",
       "  'TX',\n",
       "  '79940',\n",
       "  31.6948,\n",
       "  -106.3,\n",
       "  datetime.datetime(2012, 6, 28, 0, 0))]"
      ]
     },
     "execution_count": 6,
     "metadata": {},
     "output_type": "execute_result"
    }
   ],
   "source": [
    "result"
   ]
  },
  {
   "cell_type": "code",
   "execution_count": 7,
   "id": "1754ef8e",
   "metadata": {},
   "outputs": [],
   "source": [
    "cur.close()\n",
    "conn.close()"
   ]
  },
  {
   "cell_type": "markdown",
   "id": "e5c88341",
   "metadata": {},
   "source": [
    "SQL Alchemy engine object has advantages such as :  \n",
    " - Connection pool allows for multiple connections simulataneously.  \n",
    " - Lazy initialization (connection is established based on the request). This minimizes the connection time and reduces the load on the database.  \n",
    " - It autocommits to the database.  \n",
    " "
   ]
  },
  {
   "cell_type": "code",
   "execution_count": 8,
   "id": "c7cb318b",
   "metadata": {},
   "outputs": [],
   "source": [
    "import pandas as pd\n",
    "from sqlalchemy import create_engine\n",
    "%matplotlib inline"
   ]
  },
  {
   "cell_type": "code",
   "execution_count": 12,
   "id": "4e880e71",
   "metadata": {},
   "outputs": [
    {
     "name": "stdout",
     "output_type": "stream",
     "text": [
      "postgresql+psycopg2://{username}:{pswd}@{host}:{port}/{database}\n"
     ]
    }
   ],
   "source": [
    "conn_string =  (\"postgresql+psycopg2://{username}:{pswd}@{host}:{port}/{database}\")\n",
    "print(conn_string)"
   ]
  },
  {
   "cell_type": "code",
   "execution_count": 13,
   "id": "1a0f1d28",
   "metadata": {},
   "outputs": [],
   "source": [
    "engine = create_engine(conn_string.format(\n",
    "    username = 'postgres',\n",
    "    pswd = 'postgres',\n",
    "    host = 'localhost',\n",
    "    port = 5432,\n",
    "    database = 'sqlda'\n",
    "                        )\n",
    "                          )"
   ]
  },
  {
   "cell_type": "code",
   "execution_count": 14,
   "id": "f85eafb3",
   "metadata": {},
   "outputs": [
    {
     "data": {
      "text/plain": [
       "[(1, None, 'Arlena', 'Riveles', None, 'ariveles0@stumbleupon.com', 'F', '98.36.172.246', None, None, None, None, None, None, None, datetime.datetime(2017, 4, 23, 0, 0)),\n",
       " (2, 'Dr', 'Ode', 'Stovin', None, 'ostovin1@npr.org', 'M', '16.97.59.186', '314-534-4361', '2573 Fordem Parkway', 'Saint Louis', 'MO', '63116', 38.5814, -90.2625, datetime.datetime(2014, 10, 2, 0, 0)),\n",
       " (3, None, 'Braden', 'Jordan', None, 'bjordan2@geocities.com', 'M', '192.86.248.59', None, '5651 Kennedy Park', 'Pensacola', 'FL', '32590', 30.6143, -87.2758, datetime.datetime(2018, 10, 27, 0, 0)),\n",
       " (4, None, 'Jessika', 'Nussen', None, 'jnussen3@salon.com', 'F', '159.165.138.166', '615-824-2506', '224 Village Circle', 'Nashville', 'TN', '37215', 36.0986, -86.8219, datetime.datetime(2017, 9, 3, 0, 0)),\n",
       " (5, None, 'Lonnie', 'Rembaud', None, 'lrembaud4@discovery.com', 'F', '18.131.58.65', '786-499-3431', '38 Lindbergh Way', 'Miami', 'FL', '33124', 25.5584, -80.4582, datetime.datetime(2014, 3, 6, 0, 0)),\n",
       " (6, None, 'Cortie', 'Locksley', None, 'clocksley5@weather.com', 'M', '140.194.59.82', None, '6537 Delladonna Drive', 'Miami', 'FL', '33158', 25.6364, -80.3187, datetime.datetime(2013, 3, 31, 0, 0)),\n",
       " (7, None, 'Wood', 'Kennham', None, 'wkennham6@sohu.com', 'M', '191.190.135.172', '407-552-6486', '001 Onsgard Park', 'Orlando', 'FL', '32891', 28.5663, -81.2608, datetime.datetime(2011, 8, 25, 0, 0)),\n",
       " (8, None, 'Rutger', 'Humblestone', None, 'rhumblestone7@digg.com', 'M', '77.10.235.191', '203-551-6530', '21376 Esker Center', 'New Haven', 'CT', '06510', 41.3087, -72.9271, datetime.datetime(2013, 12, 15, 0, 0)),\n",
       " (9, None, 'Melantha', 'Tibb', None, 'mtibb8@bbb.org', 'F', '155.176.37.197', '913-590-8429', '05915 Havey Hill', 'Shawnee Mission', 'KS', '66225', 38.8999, -94.83200000000001, datetime.datetime(2016, 2, 11, 0, 0)),\n",
       " (10, 'Ms', 'Barbara-anne', 'Gowlett', 'Jr', 'bgowlett9@who.int', 'F', '67.110.62.119', '915-714-5735', '9 Kim Point', 'El Paso', 'TX', '79940', 31.6948, -106.3, datetime.datetime(2012, 6, 28, 0, 0))]"
      ]
     },
     "execution_count": 14,
     "metadata": {},
     "output_type": "execute_result"
    }
   ],
   "source": [
    "engine.execute(\"SELECT * FROM customers LIMIT 10;\").fetchall()"
   ]
  },
  {
   "cell_type": "code",
   "execution_count": 15,
   "id": "9b8f96af",
   "metadata": {},
   "outputs": [],
   "source": [
    "df_customers = pd.read_sql_table('customers',engine)"
   ]
  },
  {
   "cell_type": "code",
   "execution_count": null,
   "id": "cd491a58",
   "metadata": {},
   "outputs": [],
   "source": []
  },
  {
   "cell_type": "code",
   "execution_count": null,
   "id": "0b6c2db6",
   "metadata": {},
   "outputs": [],
   "source": []
  },
  {
   "cell_type": "code",
   "execution_count": null,
   "id": "347f8cc4",
   "metadata": {},
   "outputs": [],
   "source": []
  },
  {
   "cell_type": "code",
   "execution_count": null,
   "id": "2d91fc52",
   "metadata": {},
   "outputs": [],
   "source": []
  },
  {
   "cell_type": "code",
   "execution_count": null,
   "id": "ccdbde14",
   "metadata": {},
   "outputs": [],
   "source": []
  }
 ],
 "metadata": {
  "kernelspec": {
   "display_name": "Python 3 (ipykernel)",
   "language": "python",
   "name": "python3"
  },
  "language_info": {
   "codemirror_mode": {
    "name": "ipython",
    "version": 3
   },
   "file_extension": ".py",
   "mimetype": "text/x-python",
   "name": "python",
   "nbconvert_exporter": "python",
   "pygments_lexer": "ipython3",
   "version": "3.9.7"
  }
 },
 "nbformat": 4,
 "nbformat_minor": 5
}
